{
 "cells": [
  {
   "cell_type": "code",
   "execution_count": null,
   "metadata": {},
   "outputs": [],
   "source": []
  },
  {
   "cell_type": "code",
   "execution_count": 1,
   "metadata": {},
   "outputs": [
    {
     "name": "stderr",
     "output_type": "stream",
     "text": [
      "/Users/nikita/anaconda3/lib/python3.6/site-packages/sklearn/ensemble/weight_boosting.py:29: DeprecationWarning: numpy.core.umath_tests is an internal NumPy module and should not be imported. It will be removed in a future NumPy release.\n",
      "  from numpy.core.umath_tests import inner1d\n"
     ]
    }
   ],
   "source": [
    "import numpy as np\n",
    "from sklearn.linear_model import LinearRegression\n",
    "from sklearn.linear_model import LogisticRegression\n",
    "import pandas as pd\n",
    "from sklearn.model_selection import train_test_split\n",
    "from sklearn.ensemble import GradientBoostingClassifier\n",
    "import pywt"
   ]
  },
  {
   "cell_type": "code",
   "execution_count": 2,
   "metadata": {},
   "outputs": [],
   "source": [
    "import matplotlib.pyplot as plt"
   ]
  },
  {
   "cell_type": "code",
   "execution_count": 3,
   "metadata": {},
   "outputs": [],
   "source": [
    "from scipy.spatial import distance as dist"
   ]
  },
  {
   "cell_type": "code",
   "execution_count": 23,
   "metadata": {},
   "outputs": [],
   "source": [
    "from scipy.spatial.distance import euclidean"
   ]
  },
  {
   "cell_type": "code",
   "execution_count": 4,
   "metadata": {},
   "outputs": [],
   "source": [
    "dataset = pd.read_csv(\"../../datasets/binary_regression/ds_1/dataset.csv\", index_col=0, )"
   ]
  },
  {
   "cell_type": "code",
   "execution_count": null,
   "metadata": {},
   "outputs": [],
   "source": []
  },
  {
   "cell_type": "code",
   "execution_count": 5,
   "metadata": {},
   "outputs": [],
   "source": [
    "df = dataset #[dataset.label != 1]"
   ]
  },
  {
   "cell_type": "code",
   "execution_count": null,
   "metadata": {},
   "outputs": [],
   "source": []
  },
  {
   "cell_type": "code",
   "execution_count": 6,
   "metadata": {},
   "outputs": [
    {
     "data": {
      "text/plain": [
       "35"
      ]
     },
     "execution_count": 6,
     "metadata": {},
     "output_type": "execute_result"
    }
   ],
   "source": [
    "len(df)"
   ]
  },
  {
   "cell_type": "code",
   "execution_count": 7,
   "metadata": {},
   "outputs": [
    {
     "data": {
      "text/html": [
       "<div>\n",
       "<style scoped>\n",
       "    .dataframe tbody tr th:only-of-type {\n",
       "        vertical-align: middle;\n",
       "    }\n",
       "\n",
       "    .dataframe tbody tr th {\n",
       "        vertical-align: top;\n",
       "    }\n",
       "\n",
       "    .dataframe thead th {\n",
       "        text-align: right;\n",
       "    }\n",
       "</style>\n",
       "<table border=\"1\" class=\"dataframe\">\n",
       "  <thead>\n",
       "    <tr style=\"text-align: right;\">\n",
       "      <th></th>\n",
       "      <th>e_0</th>\n",
       "      <th>e_1</th>\n",
       "      <th>e_2</th>\n",
       "      <th>e_3</th>\n",
       "      <th>e_4</th>\n",
       "      <th>e_5</th>\n",
       "      <th>e_6</th>\n",
       "      <th>e_7</th>\n",
       "      <th>e_8</th>\n",
       "      <th>e_9</th>\n",
       "      <th>...</th>\n",
       "      <th>e_91</th>\n",
       "      <th>e_92</th>\n",
       "      <th>e_93</th>\n",
       "      <th>e_94</th>\n",
       "      <th>e_95</th>\n",
       "      <th>e_96</th>\n",
       "      <th>e_97</th>\n",
       "      <th>e_98</th>\n",
       "      <th>e_99</th>\n",
       "      <th>label</th>\n",
       "    </tr>\n",
       "  </thead>\n",
       "  <tbody>\n",
       "    <tr>\n",
       "      <td>count</td>\n",
       "      <td>35.000000</td>\n",
       "      <td>35.000000</td>\n",
       "      <td>35.000000</td>\n",
       "      <td>35.000000</td>\n",
       "      <td>35.000000</td>\n",
       "      <td>35.000000</td>\n",
       "      <td>35.000000</td>\n",
       "      <td>35.000000</td>\n",
       "      <td>35.000000</td>\n",
       "      <td>35.000000</td>\n",
       "      <td>...</td>\n",
       "      <td>35.000000</td>\n",
       "      <td>35.000000</td>\n",
       "      <td>35.000000</td>\n",
       "      <td>35.000000</td>\n",
       "      <td>35.000000</td>\n",
       "      <td>35.000000</td>\n",
       "      <td>35.000000</td>\n",
       "      <td>35.000000</td>\n",
       "      <td>35.000000</td>\n",
       "      <td>35.000000</td>\n",
       "    </tr>\n",
       "    <tr>\n",
       "      <td>mean</td>\n",
       "      <td>407.285714</td>\n",
       "      <td>404.314286</td>\n",
       "      <td>402.857143</td>\n",
       "      <td>400.542857</td>\n",
       "      <td>403.942857</td>\n",
       "      <td>402.171429</td>\n",
       "      <td>401.685714</td>\n",
       "      <td>396.200000</td>\n",
       "      <td>397.114286</td>\n",
       "      <td>398.457143</td>\n",
       "      <td>...</td>\n",
       "      <td>395.342857</td>\n",
       "      <td>396.228571</td>\n",
       "      <td>397.257143</td>\n",
       "      <td>396.085714</td>\n",
       "      <td>397.085714</td>\n",
       "      <td>398.600000</td>\n",
       "      <td>400.028571</td>\n",
       "      <td>399.371429</td>\n",
       "      <td>400.714286</td>\n",
       "      <td>0.514286</td>\n",
       "    </tr>\n",
       "    <tr>\n",
       "      <td>std</td>\n",
       "      <td>38.797795</td>\n",
       "      <td>43.463826</td>\n",
       "      <td>40.876531</td>\n",
       "      <td>36.699369</td>\n",
       "      <td>38.440896</td>\n",
       "      <td>44.494207</td>\n",
       "      <td>43.925586</td>\n",
       "      <td>40.911526</td>\n",
       "      <td>41.227326</td>\n",
       "      <td>44.575345</td>\n",
       "      <td>...</td>\n",
       "      <td>24.474408</td>\n",
       "      <td>25.276222</td>\n",
       "      <td>27.560994</td>\n",
       "      <td>30.990863</td>\n",
       "      <td>27.712146</td>\n",
       "      <td>23.921686</td>\n",
       "      <td>27.628295</td>\n",
       "      <td>32.414671</td>\n",
       "      <td>31.259419</td>\n",
       "      <td>0.507093</td>\n",
       "    </tr>\n",
       "    <tr>\n",
       "      <td>min</td>\n",
       "      <td>332.000000</td>\n",
       "      <td>332.000000</td>\n",
       "      <td>334.000000</td>\n",
       "      <td>337.000000</td>\n",
       "      <td>342.000000</td>\n",
       "      <td>334.000000</td>\n",
       "      <td>336.000000</td>\n",
       "      <td>333.000000</td>\n",
       "      <td>332.000000</td>\n",
       "      <td>333.000000</td>\n",
       "      <td>...</td>\n",
       "      <td>354.000000</td>\n",
       "      <td>340.000000</td>\n",
       "      <td>337.000000</td>\n",
       "      <td>341.000000</td>\n",
       "      <td>356.000000</td>\n",
       "      <td>354.000000</td>\n",
       "      <td>338.000000</td>\n",
       "      <td>341.000000</td>\n",
       "      <td>345.000000</td>\n",
       "      <td>0.000000</td>\n",
       "    </tr>\n",
       "    <tr>\n",
       "      <td>25%</td>\n",
       "      <td>375.500000</td>\n",
       "      <td>364.500000</td>\n",
       "      <td>365.000000</td>\n",
       "      <td>364.500000</td>\n",
       "      <td>365.500000</td>\n",
       "      <td>364.000000</td>\n",
       "      <td>360.500000</td>\n",
       "      <td>356.500000</td>\n",
       "      <td>359.000000</td>\n",
       "      <td>357.000000</td>\n",
       "      <td>...</td>\n",
       "      <td>382.000000</td>\n",
       "      <td>380.500000</td>\n",
       "      <td>382.500000</td>\n",
       "      <td>372.000000</td>\n",
       "      <td>375.500000</td>\n",
       "      <td>382.000000</td>\n",
       "      <td>380.500000</td>\n",
       "      <td>377.000000</td>\n",
       "      <td>383.000000</td>\n",
       "      <td>0.000000</td>\n",
       "    </tr>\n",
       "    <tr>\n",
       "      <td>50%</td>\n",
       "      <td>417.000000</td>\n",
       "      <td>410.000000</td>\n",
       "      <td>395.000000</td>\n",
       "      <td>400.000000</td>\n",
       "      <td>411.000000</td>\n",
       "      <td>401.000000</td>\n",
       "      <td>390.000000</td>\n",
       "      <td>391.000000</td>\n",
       "      <td>406.000000</td>\n",
       "      <td>412.000000</td>\n",
       "      <td>...</td>\n",
       "      <td>395.000000</td>\n",
       "      <td>394.000000</td>\n",
       "      <td>392.000000</td>\n",
       "      <td>392.000000</td>\n",
       "      <td>395.000000</td>\n",
       "      <td>392.000000</td>\n",
       "      <td>397.000000</td>\n",
       "      <td>396.000000</td>\n",
       "      <td>395.000000</td>\n",
       "      <td>1.000000</td>\n",
       "    </tr>\n",
       "    <tr>\n",
       "      <td>75%</td>\n",
       "      <td>440.500000</td>\n",
       "      <td>446.000000</td>\n",
       "      <td>440.000000</td>\n",
       "      <td>433.500000</td>\n",
       "      <td>436.500000</td>\n",
       "      <td>447.000000</td>\n",
       "      <td>445.500000</td>\n",
       "      <td>433.000000</td>\n",
       "      <td>437.500000</td>\n",
       "      <td>439.000000</td>\n",
       "      <td>...</td>\n",
       "      <td>408.500000</td>\n",
       "      <td>408.500000</td>\n",
       "      <td>419.000000</td>\n",
       "      <td>418.000000</td>\n",
       "      <td>414.000000</td>\n",
       "      <td>414.000000</td>\n",
       "      <td>426.500000</td>\n",
       "      <td>428.500000</td>\n",
       "      <td>428.500000</td>\n",
       "      <td>1.000000</td>\n",
       "    </tr>\n",
       "    <tr>\n",
       "      <td>max</td>\n",
       "      <td>459.000000</td>\n",
       "      <td>461.000000</td>\n",
       "      <td>459.000000</td>\n",
       "      <td>454.000000</td>\n",
       "      <td>458.000000</td>\n",
       "      <td>459.000000</td>\n",
       "      <td>460.000000</td>\n",
       "      <td>453.000000</td>\n",
       "      <td>451.000000</td>\n",
       "      <td>458.000000</td>\n",
       "      <td>...</td>\n",
       "      <td>455.000000</td>\n",
       "      <td>452.000000</td>\n",
       "      <td>454.000000</td>\n",
       "      <td>463.000000</td>\n",
       "      <td>454.000000</td>\n",
       "      <td>442.000000</td>\n",
       "      <td>452.000000</td>\n",
       "      <td>467.000000</td>\n",
       "      <td>459.000000</td>\n",
       "      <td>1.000000</td>\n",
       "    </tr>\n",
       "  </tbody>\n",
       "</table>\n",
       "<p>8 rows × 101 columns</p>\n",
       "</div>"
      ],
      "text/plain": [
       "              e_0         e_1         e_2         e_3         e_4         e_5  \\\n",
       "count   35.000000   35.000000   35.000000   35.000000   35.000000   35.000000   \n",
       "mean   407.285714  404.314286  402.857143  400.542857  403.942857  402.171429   \n",
       "std     38.797795   43.463826   40.876531   36.699369   38.440896   44.494207   \n",
       "min    332.000000  332.000000  334.000000  337.000000  342.000000  334.000000   \n",
       "25%    375.500000  364.500000  365.000000  364.500000  365.500000  364.000000   \n",
       "50%    417.000000  410.000000  395.000000  400.000000  411.000000  401.000000   \n",
       "75%    440.500000  446.000000  440.000000  433.500000  436.500000  447.000000   \n",
       "max    459.000000  461.000000  459.000000  454.000000  458.000000  459.000000   \n",
       "\n",
       "              e_6         e_7         e_8         e_9  ...        e_91  \\\n",
       "count   35.000000   35.000000   35.000000   35.000000  ...   35.000000   \n",
       "mean   401.685714  396.200000  397.114286  398.457143  ...  395.342857   \n",
       "std     43.925586   40.911526   41.227326   44.575345  ...   24.474408   \n",
       "min    336.000000  333.000000  332.000000  333.000000  ...  354.000000   \n",
       "25%    360.500000  356.500000  359.000000  357.000000  ...  382.000000   \n",
       "50%    390.000000  391.000000  406.000000  412.000000  ...  395.000000   \n",
       "75%    445.500000  433.000000  437.500000  439.000000  ...  408.500000   \n",
       "max    460.000000  453.000000  451.000000  458.000000  ...  455.000000   \n",
       "\n",
       "             e_92        e_93        e_94        e_95        e_96        e_97  \\\n",
       "count   35.000000   35.000000   35.000000   35.000000   35.000000   35.000000   \n",
       "mean   396.228571  397.257143  396.085714  397.085714  398.600000  400.028571   \n",
       "std     25.276222   27.560994   30.990863   27.712146   23.921686   27.628295   \n",
       "min    340.000000  337.000000  341.000000  356.000000  354.000000  338.000000   \n",
       "25%    380.500000  382.500000  372.000000  375.500000  382.000000  380.500000   \n",
       "50%    394.000000  392.000000  392.000000  395.000000  392.000000  397.000000   \n",
       "75%    408.500000  419.000000  418.000000  414.000000  414.000000  426.500000   \n",
       "max    452.000000  454.000000  463.000000  454.000000  442.000000  452.000000   \n",
       "\n",
       "             e_98        e_99      label  \n",
       "count   35.000000   35.000000  35.000000  \n",
       "mean   399.371429  400.714286   0.514286  \n",
       "std     32.414671   31.259419   0.507093  \n",
       "min    341.000000  345.000000   0.000000  \n",
       "25%    377.000000  383.000000   0.000000  \n",
       "50%    396.000000  395.000000   1.000000  \n",
       "75%    428.500000  428.500000   1.000000  \n",
       "max    467.000000  459.000000   1.000000  \n",
       "\n",
       "[8 rows x 101 columns]"
      ]
     },
     "execution_count": 7,
     "metadata": {},
     "output_type": "execute_result"
    }
   ],
   "source": [
    "df.describe()"
   ]
  },
  {
   "cell_type": "code",
   "execution_count": 8,
   "metadata": {},
   "outputs": [],
   "source": [
    "# X_values = df.loc[:, \"e_0\":\"e_59\"].to_numpy()\n",
    "# lables_my = [] #df.label #[]\n",
    "# for l in df.label[:]:\n",
    "#     if l == 1:\n",
    "#         lables_my.append(1)\n",
    "#     elif l == 0 :\n",
    "#         lables_my.append(0)\n",
    "#     elif l == -1 :\n",
    "#         lables_my.append(1)"
   ]
  },
  {
   "cell_type": "code",
   "execution_count": 9,
   "metadata": {},
   "outputs": [],
   "source": [
    "# tmp = df.loc[3:, \"e_0\":\"e_99\"].to_numpy()\n",
    "# X_values = []\n",
    "# for each in tmp:\n",
    "#     index = -1\n",
    "#     try:\n",
    "#         index = list(each).index(0)\n",
    "#     except:\n",
    "#         pass\n",
    "#     if index != -1:\n",
    "#         avg = sum(each[:index]) / index\n",
    "#         for i in range(index, len(each)):\n",
    "#             each[i] = avg\n",
    "#     wavelet = pywt.dwt(each, 'db1')\n",
    "#     X_values.append(smooth( wavelet[0] ))#smooth(smooth(smooth(smooth(each)))))\n",
    "# lables_my = [] #df.label #[]\n",
    "# label_ds = df.loc[3:, \"label\"].to_numpy()\n",
    "# for l in df.label[:]:\n",
    "#     if l == 1:\n",
    "#         lables_my.append(1)\n",
    "#     elif l == 0 :\n",
    "#         lables_my.append(0)\n",
    "#     elif l == -1 :\n",
    "#         lables_my.append(-1)"
   ]
  },
  {
   "cell_type": "code",
   "execution_count": 13,
   "metadata": {},
   "outputs": [],
   "source": [
    "bias = 5\n",
    "tmp = df.loc[bias:, \"e_0\":\"e_99\"].to_numpy()\n",
    "lables_my = [] #df.label #[]\n",
    "label_ds = df.loc[bias:, \"label\"].to_numpy()\n",
    "\n",
    "X_values = []\n",
    "for i, each in enumerate(tmp):\n",
    "    index = -1\n",
    "    try:\n",
    "        index = list(each).index(0)\n",
    "    except:\n",
    "        pass\n",
    "    if index != -1:\n",
    "        avg = sum(each[:index]) / index\n",
    "        for i in range(index, len(each)):\n",
    "            each[i] = avg\n",
    "    wavelet = pywt.dwt(each, 'db1')\n",
    "    tmp = wavelet[0]\n",
    "    value = smooth(tmp)\n",
    "    #smooth(smooth(smooth(smooth(each)))))\n",
    "    \n",
    "    l = label_ds[i]\n",
    "    if l == 1:\n",
    "        lables_my.append(1)\n",
    "        X_values.append(value)\n",
    "    elif l == 0 :\n",
    "        lables_my.append(0)\n",
    "        X_values.append(value)\n",
    "    elif l == -1 :\n",
    "        pass\n",
    "#         lables_my.append(-1)\n",
    "#         X_values.append(value)\n",
    "\n",
    "    "
   ]
  },
  {
   "cell_type": "code",
   "execution_count": 14,
   "metadata": {},
   "outputs": [
    {
     "data": {
      "text/plain": [
       "([1, 1, 1, 1, 1, 1, 1, 1, 1, 1, 1, 1, 1, 0, 0, 0, 0, 0, 0, 0], 1)"
      ]
     },
     "execution_count": 14,
     "metadata": {},
     "output_type": "execute_result"
    }
   ],
   "source": [
    "lables_my[:20], lables_my[10]"
   ]
  },
  {
   "cell_type": "code",
   "execution_count": 15,
   "metadata": {},
   "outputs": [
    {
     "data": {
      "text/plain": [
       "(30, 30)"
      ]
     },
     "execution_count": 15,
     "metadata": {},
     "output_type": "execute_result"
    }
   ],
   "source": [
    "len(lables_my), len(X_values)"
   ]
  },
  {
   "cell_type": "code",
   "execution_count": 16,
   "metadata": {},
   "outputs": [
    {
     "data": {
      "image/png": "[encoded data removed]",
      "text/plain": [
       "<matplotlib.figure.Figure at 0x11e9399e8>"
      ]
     },
     "metadata": {},
     "output_type": "display_data"
    }
   ],
   "source": [
    "# lables_my[:5]\n",
    "for v in X_values[:5]:\n",
    "    plt.plot(v)\n",
    "plt.show()"
   ]
  },
  {
   "cell_type": "code",
   "execution_count": 17,
   "metadata": {},
   "outputs": [
    {
     "data": {
      "text/plain": [
       "60"
      ]
     },
     "execution_count": 17,
     "metadata": {},
     "output_type": "execute_result"
    }
   ],
   "source": [
    "len(X_values[0])"
   ]
  },
  {
   "cell_type": "code",
   "execution_count": 28,
   "metadata": {},
   "outputs": [],
   "source": [
    "def get_distance_list(target_vec, vectors):\n",
    "    result = []\n",
    "    for i, vec in enumerate(vectors):\n",
    "        result.append([i, vec, euclidean(vec, target_vec)])\n",
    "    a = np.array(result)\n",
    "    res = a[a[:,2].argsort()]\n",
    "    return res\n",
    "\n",
    "def get_nearest(vectors, amount):\n",
    "    pass\n",
    "# a[a[:,1].argsort()]"
   ]
  },
  {
   "cell_type": "code",
   "execution_count": null,
   "metadata": {},
   "outputs": [],
   "source": []
  },
  {
   "cell_type": "code",
   "execution_count": 29,
   "metadata": {},
   "outputs": [],
   "source": [
    "amount = 5\n",
    "ds_amount = 120"
   ]
  },
  {
   "cell_type": "code",
   "execution_count": 30,
   "metadata": {},
   "outputs": [],
   "source": [
    "ind = lables_my.index(1)\n",
    "vec = X_values[ind]\n",
    "label = lables_my[ind]\n",
    "vectors = get_distance_list(vec, X_values[:ds_amount])\n",
    "plt.close()"
   ]
  },
  {
   "cell_type": "code",
   "execution_count": 31,
   "metadata": {},
   "outputs": [
    {
     "name": "stdout",
     "output_type": "stream",
     "text": [
      "0 0.0 1\n",
      "4 120.00050967763863 1\n",
      "3 155.234954957708 1\n",
      "6 192.59221410079846 1\n",
      "7 207.5138881723425 1\n"
     ]
    }
   ],
   "source": [
    "tmp = []\n",
    "for i, v in enumerate(vectors[:amount]):\n",
    "    print(v[0], v[2], lables_my[v[0]])\n",
    "    if i == 0:\n",
    "        plt.plot(v[1], 'r', label=\"Сигнал для поиска\")\n",
    "    elif lables_my[v[0]] == label:\n",
    "        tmp = v[1]\n",
    "        plt.plot(v[1], 'g')\n",
    "    else:\n",
    "        plt.plot(v[1], 'b')\n",
    "\n",
    "plt.plot(v[1], 'g', label=\"Найденный сигнал\")\n",
    "plt.title(\"Поиск сигнала в БД\")\n",
    "plt.legend()\n",
    "# plt.show()\n",
    "plt.savefig(\"search_1.png\")"
   ]
  },
  {
   "cell_type": "code",
   "execution_count": 32,
   "metadata": {},
   "outputs": [],
   "source": [
    "plt.close()"
   ]
  },
  {
   "cell_type": "code",
   "execution_count": 33,
   "metadata": {},
   "outputs": [],
   "source": [
    "ind = lables_my.index(0)\n",
    "vec = X_values[ind]\n",
    "label = lables_my[ind]\n",
    "vectors = get_distance_list(vec, X_values[:ds_amount])"
   ]
  },
  {
   "cell_type": "code",
   "execution_count": 46,
   "metadata": {},
   "outputs": [
    {
     "name": "stdout",
     "output_type": "stream",
     "text": [
      "13 0.0 0\n",
      "26 324.0054414993805 0\n",
      "28 350.3949087089052 0\n",
      "21 390.00533467883565 0\n",
      "29 421.39311068086215 0\n"
     ]
    },
    {
     "data": {
      "image/png": "[encoded data removed]",
      "text/plain": [
       "<matplotlib.figure.Figure at 0x1210b2550>"
      ]
     },
     "metadata": {},
     "output_type": "display_data"
    }
   ],
   "source": [
    "tmp = []\n",
    "for i, v in enumerate(vectors[:amount]):\n",
    "    print(v[0], v[2], lables_my[v[0]])\n",
    "    if i == 0:\n",
    "        plt.plot(v[1], 'r', label=\"Target signal\")\n",
    "    elif lables_my[v[0]] == label:\n",
    "        tmp = v[1]\n",
    "        plt.plot(v[1], 'g')\n",
    "    else:\n",
    "        plt.plot(v[1], 'b')\n",
    "\n",
    "plt.plot(v[1], 'g', label=\"Signal found\")\n",
    "plt.title(\"Signal search in the database\")\n",
    "plt.legend()\n",
    "plt.show()\n",
    "# plt.savefig(\"search_0_en.png\")"
   ]
  },
  {
   "cell_type": "code",
   "execution_count": 51,
   "metadata": {},
   "outputs": [],
   "source": [
    "ind = lables_my.index(1)\n",
    "vec = X_values[ind]\n",
    "label = lables_my[ind]\n",
    "vectors = get_distance_list(vec, X_values[:ds_amount])"
   ]
  },
  {
   "cell_type": "code",
   "execution_count": 54,
   "metadata": {},
   "outputs": [
    {
     "name": "stdout",
     "output_type": "stream",
     "text": [
      "0 0.0 1\n",
      "4 120.00050967763863 1\n",
      "3 155.234954957708 1\n",
      "6 192.59221410079846 1\n",
      "7 207.5138881723425 1\n"
     ]
    }
   ],
   "source": [
    "for i, v in enumerate(vectors[:amount]):\n",
    "    print(v[0], v[2], lables_my[v[0]])\n",
    "    if i == 0:\n",
    "        plt.plot(v[1], 'r', label=\"Target signal\")\n",
    "    elif lables_my[v[0]] == label:\n",
    "        tmp = v[1]\n",
    "        plt.plot(v[1], 'g')\n",
    "    else:\n",
    "        plt.plot(v[1], 'b')\n",
    "\n",
    "plt.plot(v[1], 'g', label=\"Signal found\")\n",
    "plt.title(\"Signal search in the database\")\n",
    "plt.legend()\n",
    "# plt.show()\n",
    "# plt.savefig(\"search_1_en.png\")"
   ]
  },
  {
   "cell_type": "code",
   "execution_count": null,
   "metadata": {},
   "outputs": [],
   "source": []
  },
  {
   "cell_type": "code",
   "execution_count": 37,
   "metadata": {},
   "outputs": [],
   "source": [
    "score_pos = 0\n",
    "score_neg = 0\n",
    "for i, label_m in enumerate(lables_my):\n",
    "    ind = lables_my.index(label_m)\n",
    "    vec = X_values[ind]\n",
    "    vectors = get_distance_list(vec, X_values[:250])\n",
    "    v = vectors[1]\n",
    "    if lables_my[v[0]] == label_m:\n",
    "        score_pos += 1\n",
    "    else:\n",
    "        score_neg += 1"
   ]
  },
  {
   "cell_type": "code",
   "execution_count": 1349,
   "metadata": {},
   "outputs": [
    {
     "data": {
      "text/plain": [
       "(30, 0)"
      ]
     },
     "execution_count": 1349,
     "metadata": {},
     "output_type": "execute_result"
    }
   ],
   "source": [
    "score_pos, score_neg"
   ]
  },
  {
   "cell_type": "code",
   "execution_count": null,
   "metadata": {},
   "outputs": [],
   "source": []
  },
  {
   "cell_type": "code",
   "execution_count": null,
   "metadata": {},
   "outputs": [],
   "source": []
  },
  {
   "cell_type": "code",
   "execution_count": 864,
   "metadata": {},
   "outputs": [],
   "source": [
    "try:\n",
    "    list(tmp[2]).index(0)\n",
    "except:\n",
    "    pass"
   ]
  },
  {
   "cell_type": "code",
   "execution_count": 865,
   "metadata": {},
   "outputs": [],
   "source": [
    "smooth_X = smooth(X_values[1])"
   ]
  },
  {
   "cell_type": "code",
   "execution_count": 866,
   "metadata": {},
   "outputs": [],
   "source": [
    "# for i in range(5):\n",
    "#     smooth_X = smooth(X_values[i])\n",
    "#     fft = np.fft.fft(smooth_X)\n",
    "# #     int(len(fft)/2)\n",
    "#     print(lables_my[i])\n",
    "#     plt.plot(fft[1:20], 'g')\n",
    "# #     plt.plot(tmp[i], 'y')\n",
    "# #     plt.plot(smooth_X, \"b\")\n",
    "# #     plt.plot(X_values[i], \"r\")\n",
    "#     plt.show()"
   ]
  },
  {
   "cell_type": "code",
   "execution_count": null,
   "metadata": {},
   "outputs": [],
   "source": []
  },
  {
   "cell_type": "code",
   "execution_count": 867,
   "metadata": {},
   "outputs": [],
   "source": [
    "X_train, X_test, y_train, y_test = train_test_split(X_values, lables_my, test_size=0.33, random_state=42)"
   ]
  },
  {
   "cell_type": "code",
   "execution_count": 868,
   "metadata": {},
   "outputs": [],
   "source": [
    "# y_test"
   ]
  },
  {
   "cell_type": "code",
   "execution_count": 869,
   "metadata": {},
   "outputs": [],
   "source": [
    "reg = LogisticRegression()"
   ]
  },
  {
   "cell_type": "code",
   "execution_count": 870,
   "metadata": {},
   "outputs": [
    {
     "data": {
      "text/plain": [
       "LogisticRegression(C=1.0, class_weight=None, dual=False, fit_intercept=True,\n",
       "          intercept_scaling=1, max_iter=100, multi_class='ovr', n_jobs=1,\n",
       "          penalty='l2', random_state=None, solver='liblinear', tol=0.0001,\n",
       "          verbose=0, warm_start=False)"
      ]
     },
     "execution_count": 870,
     "metadata": {},
     "output_type": "execute_result"
    }
   ],
   "source": [
    "reg.fit(X_train, y_train)"
   ]
  },
  {
   "cell_type": "code",
   "execution_count": 871,
   "metadata": {},
   "outputs": [
    {
     "data": {
      "text/plain": [
       "0.9"
      ]
     },
     "execution_count": 871,
     "metadata": {},
     "output_type": "execute_result"
    }
   ],
   "source": [
    "reg.score(X_test, y_test)"
   ]
  },
  {
   "cell_type": "code",
   "execution_count": 872,
   "metadata": {},
   "outputs": [
    {
     "data": {
      "text/plain": [
       "array([0, 1, 0, 0, 1, 1, 0, 0, 1, 1])"
      ]
     },
     "execution_count": 872,
     "metadata": {},
     "output_type": "execute_result"
    }
   ],
   "source": [
    "ind = 3\n",
    "reg.predict(X_test)"
   ]
  },
  {
   "cell_type": "code",
   "execution_count": 873,
   "metadata": {},
   "outputs": [
    {
     "data": {
      "text/plain": [
       "[0, 0, 0, 0, 1, 1, 0, 0, 1, 1]"
      ]
     },
     "execution_count": 873,
     "metadata": {},
     "output_type": "execute_result"
    }
   ],
   "source": [
    "y_test"
   ]
  },
  {
   "cell_type": "code",
   "execution_count": null,
   "metadata": {},
   "outputs": [],
   "source": []
  },
  {
   "cell_type": "code",
   "execution_count": 874,
   "metadata": {},
   "outputs": [],
   "source": [
    "clf = GradientBoostingClassifier(random_state=0,)"
   ]
  },
  {
   "cell_type": "code",
   "execution_count": 875,
   "metadata": {},
   "outputs": [
    {
     "data": {
      "text/plain": [
       "GradientBoostingClassifier(criterion='friedman_mse', init=None,\n",
       "              learning_rate=0.1, loss='deviance', max_depth=3,\n",
       "              max_features=None, max_leaf_nodes=None,\n",
       "              min_impurity_decrease=0.0, min_impurity_split=None,\n",
       "              min_samples_leaf=1, min_samples_split=2,\n",
       "              min_weight_fraction_leaf=0.0, n_estimators=100,\n",
       "              presort='auto', random_state=0, subsample=1.0, verbose=0,\n",
       "              warm_start=False)"
      ]
     },
     "execution_count": 875,
     "metadata": {},
     "output_type": "execute_result"
    }
   ],
   "source": [
    "clf.fit(X_train, y_train)"
   ]
  },
  {
   "cell_type": "code",
   "execution_count": 876,
   "metadata": {},
   "outputs": [
    {
     "data": {
      "text/plain": [
       "1.0"
      ]
     },
     "execution_count": 876,
     "metadata": {},
     "output_type": "execute_result"
    }
   ],
   "source": [
    "clf.score(X_test, y_test)"
   ]
  },
  {
   "cell_type": "code",
   "execution_count": 877,
   "metadata": {},
   "outputs": [
    {
     "data": {
      "text/plain": [
       "array([0, 0, 0, 0, 1, 1, 0, 0, 1, 1])"
      ]
     },
     "execution_count": 877,
     "metadata": {},
     "output_type": "execute_result"
    }
   ],
   "source": [
    "ind = 20\n",
    "clf.predict(X_test[:ind])"
   ]
  },
  {
   "cell_type": "code",
   "execution_count": 878,
   "metadata": {},
   "outputs": [
    {
     "data": {
      "text/plain": [
       "[0, 0, 0, 0, 1, 1, 0, 0, 1, 1]"
      ]
     },
     "execution_count": 878,
     "metadata": {},
     "output_type": "execute_result"
    }
   ],
   "source": [
    "y_test[:ind]"
   ]
  },
  {
   "cell_type": "code",
   "execution_count": null,
   "metadata": {},
   "outputs": [],
   "source": []
  },
  {
   "cell_type": "code",
   "execution_count": 879,
   "metadata": {},
   "outputs": [],
   "source": [
    "from sklearn.linear_model import Perceptron"
   ]
  },
  {
   "cell_type": "code",
   "execution_count": null,
   "metadata": {},
   "outputs": [],
   "source": []
  },
  {
   "cell_type": "code",
   "execution_count": 880,
   "metadata": {},
   "outputs": [],
   "source": [
    "perc = Perceptron(tol=1e-3, random_state=0)"
   ]
  },
  {
   "cell_type": "code",
   "execution_count": 881,
   "metadata": {},
   "outputs": [
    {
     "data": {
      "text/plain": [
       "Perceptron(alpha=0.0001, class_weight=None, eta0=1.0, fit_intercept=True,\n",
       "      max_iter=None, n_iter=None, n_jobs=1, penalty=None, random_state=0,\n",
       "      shuffle=True, tol=0.001, verbose=0, warm_start=False)"
      ]
     },
     "execution_count": 881,
     "metadata": {},
     "output_type": "execute_result"
    }
   ],
   "source": [
    "perc.fit(X_train, y_train)"
   ]
  },
  {
   "cell_type": "code",
   "execution_count": 882,
   "metadata": {},
   "outputs": [
    {
     "data": {
      "text/plain": [
       "0.9"
      ]
     },
     "execution_count": 882,
     "metadata": {},
     "output_type": "execute_result"
    }
   ],
   "source": [
    "perc.score(X_test, y_test)"
   ]
  },
  {
   "cell_type": "code",
   "execution_count": null,
   "metadata": {},
   "outputs": [],
   "source": []
  },
  {
   "cell_type": "code",
   "execution_count": null,
   "metadata": {},
   "outputs": [],
   "source": []
  },
  {
   "cell_type": "code",
   "execution_count": 883,
   "metadata": {},
   "outputs": [],
   "source": [
    "from sklearn.neural_network import MLPClassifier"
   ]
  },
  {
   "cell_type": "code",
   "execution_count": 884,
   "metadata": {},
   "outputs": [],
   "source": [
    "mlp = MLPClassifier(solver='lbfgs', alpha=1e-5, hidden_layer_sizes=(64, 32, 16, 8, 2), random_state=1)"
   ]
  },
  {
   "cell_type": "code",
   "execution_count": 885,
   "metadata": {},
   "outputs": [
    {
     "data": {
      "text/plain": [
       "MLPClassifier(activation='relu', alpha=1e-05, batch_size='auto', beta_1=0.9,\n",
       "       beta_2=0.999, early_stopping=False, epsilon=1e-08,\n",
       "       hidden_layer_sizes=(64, 32, 16, 8, 2), learning_rate='constant',\n",
       "       learning_rate_init=0.001, max_iter=200, momentum=0.9,\n",
       "       nesterovs_momentum=True, power_t=0.5, random_state=1, shuffle=True,\n",
       "       solver='lbfgs', tol=0.0001, validation_fraction=0.1, verbose=False,\n",
       "       warm_start=False)"
      ]
     },
     "execution_count": 885,
     "metadata": {},
     "output_type": "execute_result"
    }
   ],
   "source": [
    "mlp.fit(X_train, y_train)"
   ]
  },
  {
   "cell_type": "code",
   "execution_count": 886,
   "metadata": {},
   "outputs": [
    {
     "data": {
      "text/plain": [
       "0.9"
      ]
     },
     "execution_count": 886,
     "metadata": {},
     "output_type": "execute_result"
    }
   ],
   "source": [
    "mlp.score(X_test, y_test)"
   ]
  },
  {
   "cell_type": "code",
   "execution_count": 887,
   "metadata": {},
   "outputs": [
    {
     "data": {
      "text/plain": [
       "array([0, 1, 0, 0, 1, 1, 0, 0, 1, 1])"
      ]
     },
     "execution_count": 887,
     "metadata": {},
     "output_type": "execute_result"
    }
   ],
   "source": [
    "ind = 20\n",
    "mlp.predict(X_test[:ind])"
   ]
  },
  {
   "cell_type": "code",
   "execution_count": 888,
   "metadata": {},
   "outputs": [
    {
     "data": {
      "text/plain": [
       "[0, 0, 0, 0, 1, 1, 0, 0, 1, 1]"
      ]
     },
     "execution_count": 888,
     "metadata": {},
     "output_type": "execute_result"
    }
   ],
   "source": [
    "y_test[:ind]"
   ]
  },
  {
   "cell_type": "code",
   "execution_count": null,
   "metadata": {},
   "outputs": [],
   "source": []
  },
  {
   "cell_type": "code",
   "execution_count": null,
   "metadata": {},
   "outputs": [],
   "source": []
  },
  {
   "cell_type": "code",
   "execution_count": null,
   "metadata": {},
   "outputs": [],
   "source": []
  },
  {
   "cell_type": "markdown",
   "metadata": {},
   "source": [
    "# smooth"
   ]
  },
  {
   "cell_type": "code",
   "execution_count": 12,
   "metadata": {},
   "outputs": [],
   "source": [
    "import numpy\n",
    "\n",
    "def smooth(x,window_len=11,window='hanning'):\n",
    "    if x.ndim != 1:\n",
    "        raise (ValueError, \"smooth only accepts 1 dimension arrays.\")\n",
    "\n",
    "    if x.size < window_len:\n",
    "        raise(ValueError, \"Input vector needs to be bigger than window size.\")\n",
    "\n",
    "\n",
    "    if window_len<3:\n",
    "        return x\n",
    "\n",
    "\n",
    "    if not window in ['flat', 'hanning', 'hamming', 'bartlett', 'blackman']:\n",
    "        raise (ValueError, \"Window is on of 'flat', 'hanning', 'hamming', 'bartlett', 'blackman'\")\n",
    "\n",
    "\n",
    "    s=numpy.r_[x[window_len-1:0:-1],x,x[-2:-window_len-1:-1]]\n",
    "    #print(len(s))\n",
    "    if window == 'flat': #moving average\n",
    "        w=numpy.ones(window_len,'d')\n",
    "    else:\n",
    "        w=eval('numpy.'+window+'(window_len)')\n",
    "\n",
    "    y=numpy.convolve(w/w.sum(),s,mode='valid')\n",
    "    return y\n",
    "\n",
    "\n",
    "\n",
    "\n",
    "from numpy import *\n",
    "from pylab import *\n",
    "\n",
    "def smooth_demo():\n",
    "\n",
    "    t=linspace(-4,4,100)\n",
    "    x=sin(t)\n",
    "    xn=x+randn(len(t))*0.1\n",
    "    y=smooth(x)\n",
    "\n",
    "    ws=31\n",
    "\n",
    "    subplot(211)\n",
    "    plot(ones(ws))\n",
    "\n",
    "    windows=['flat', 'hanning', 'hamming', 'bartlett', 'blackman']\n",
    "\n",
    "    hold(True)\n",
    "    for w in windows[1:]:\n",
    "        eval('plot('+w+'(ws) )')\n",
    "\n",
    "    axis([0,30,0,1.1])\n",
    "\n",
    "    legend(windows)\n",
    "    title(\"The smoothing windows\")\n",
    "    subplot(212)\n",
    "    plot(x)\n",
    "    plot(xn)\n",
    "    for w in windows:\n",
    "        plot(smooth(xn,10,w))\n",
    "    l=['original signal', 'signal with noise']\n",
    "    l.extend(windows)\n",
    "\n",
    "    legend(l)\n",
    "    title(\"Smoothing a noisy signal\")\n",
    "    show()\n"
   ]
  },
  {
   "cell_type": "code",
   "execution_count": 12,
   "metadata": {},
   "outputs": [],
   "source": [
    "# smooth_demo()"
   ]
  },
  {
   "cell_type": "code",
   "execution_count": null,
   "metadata": {},
   "outputs": [],
   "source": []
  }
 ],
 "metadata": {
  "kernelspec": {
   "display_name": "Python 3",
   "language": "python",
   "name": "python3"
  },
  "language_info": {
   "codemirror_mode": {
    "name": "ipython",
    "version": 3
   },
   "file_extension": ".py",
   "mimetype": "text/x-python",
   "name": "python",
   "nbconvert_exporter": "python",
   "pygments_lexer": "ipython3",
   "version": "3.6.3"
  }
 },
 "nbformat": 4,
 "nbformat_minor": 2
}
